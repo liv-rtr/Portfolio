{
  "nbformat": 4,
  "nbformat_minor": 0,
  "metadata": {
    "colab": {
      "provenance": []
    },
    "kernelspec": {
      "name": "python3",
      "display_name": "Python 3"
    },
    "language_info": {
      "name": "python"
    }
  },
  "cells": [
    {
      "cell_type": "markdown",
      "source": [
        "# Data Analysis on Roller Coasters Dataset"
      ],
      "metadata": {
        "id": "EfAuHr3pV-Fl"
      }
    },
    {
      "cell_type": "code",
      "execution_count": 2,
      "metadata": {
        "id": "mnyH4Byonlpz"
      },
      "outputs": [],
      "source": [
        "# Import necessary libraries\n",
        "import pandas as pd\n",
        "import seaborn as sns\n",
        "coasters = pd.read_csv(\"/coasters.csv\") # load data"
      ]
    },
    {
      "cell_type": "markdown",
      "source": [
        "## What variables are available in this dataset?\n",
        "'state', 'country', 'steel', 'construction', 'height', 'speed', 'length', 'inversions', 'numinversions', 'duration', 'gforce', 'opened', 'region', 'continent'"
      ],
      "metadata": {
        "id": "2i8SeYvWqtb-"
      }
    },
    {
      "cell_type": "code",
      "source": [
        "column_names = coasters.columns # get column names\n",
        "column_names"
      ],
      "metadata": {
        "colab": {
          "base_uri": "https://localhost:8080/"
        },
        "id": "tjm3vopbolWK",
        "outputId": "caa5b435-aa83-4cf5-de94-4623000dc679"
      },
      "execution_count": 7,
      "outputs": [
        {
          "output_type": "execute_result",
          "data": {
            "text/plain": [
              "Index(['state', 'country', 'steel', 'construction', 'height', 'speed',\n",
              "       'length', 'inversions', 'numinversions', 'duration', 'gforce', 'opened',\n",
              "       'region', 'continent'],\n",
              "      dtype='object')"
            ]
          },
          "metadata": {},
          "execution_count": 7
        }
      ]
    },
    {
      "cell_type": "markdown",
      "source": [
        "## How many coasters are there data for?\n",
        "408"
      ],
      "metadata": {
        "id": "bp1_tu8krY4V"
      }
    },
    {
      "cell_type": "code",
      "source": [
        "len(coasters) # get length (i.e. number of rows) of dataset"
      ],
      "metadata": {
        "colab": {
          "base_uri": "https://localhost:8080/"
        },
        "id": "E5FhYh4ht6I_",
        "outputId": "92ccc418-2293-4634-bfbd-69fb5858cbd3"
      },
      "execution_count": null,
      "outputs": [
        {
          "output_type": "execute_result",
          "data": {
            "text/plain": [
              "408"
            ]
          },
          "metadata": {},
          "execution_count": 9
        }
      ]
    },
    {
      "cell_type": "markdown",
      "source": [
        "## Do any of the descriptive statistics make any of the variables stick out from the rest?\n",
        "Yes, the 'length' and 'numinversions' variables have standard deviations close to their means which may indicate high variation in these columns."
      ],
      "metadata": {
        "id": "reL96DnSKg9T"
      }
    },
    {
      "cell_type": "code",
      "source": [
        "stats = coasters.describe() # get summary statistics for numerical variables\n",
        "stats"
      ],
      "metadata": {
        "colab": {
          "base_uri": "https://localhost:8080/",
          "height": 300
        },
        "id": "OqOV0MuuLWqf",
        "outputId": "da9dbdf9-545d-4c72-b720-c1cf030b6f63"
      },
      "execution_count": 14,
      "outputs": [
        {
          "output_type": "execute_result",
          "data": {
            "text/plain": [
              "            steel      height       speed       length  numinversions  \\\n",
              "count  408.000000  326.000000  270.000000   318.000000     408.000000   \n",
              "mean     0.897059   23.124871   69.362667   597.040716       0.784314   \n",
              "std      0.304255   18.523768   29.327743   432.256987       1.664058   \n",
              "min      0.000000    2.438400    9.720000    12.192000       0.000000   \n",
              "25%      1.000000    8.650800   45.000000   291.000000       0.000000   \n",
              "50%      1.000000   18.288000   68.850000   415.747500       0.000000   \n",
              "75%      1.000000   33.167400   88.950000   833.121000       0.000000   \n",
              "max      1.000000  128.016000  194.400000  2243.020000      10.000000   \n",
              "\n",
              "         duration     gforce       opened      region  \n",
              "count  192.000000  60.000000   380.000000  408.000000  \n",
              "mean   112.462500   4.115000  1995.434211    1.786765  \n",
              "std     50.518467   1.006896    12.753121    0.887323  \n",
              "min      0.300000   2.100000  1924.000000    1.000000  \n",
              "25%     75.000000   3.175000  1991.000000    1.000000  \n",
              "50%    108.000000   4.500000  1999.000000    1.000000  \n",
              "75%    140.750000   5.000000  2004.000000    3.000000  \n",
              "max    300.000000   6.200000  2014.000000    3.000000  "
            ],
            "text/html": [
              "\n",
              "  <div id=\"df-73b8a958-4bcd-4f59-b7b3-070928a1b5cd\" class=\"colab-df-container\">\n",
              "    <div>\n",
              "<style scoped>\n",
              "    .dataframe tbody tr th:only-of-type {\n",
              "        vertical-align: middle;\n",
              "    }\n",
              "\n",
              "    .dataframe tbody tr th {\n",
              "        vertical-align: top;\n",
              "    }\n",
              "\n",
              "    .dataframe thead th {\n",
              "        text-align: right;\n",
              "    }\n",
              "</style>\n",
              "<table border=\"1\" class=\"dataframe\">\n",
              "  <thead>\n",
              "    <tr style=\"text-align: right;\">\n",
              "      <th></th>\n",
              "      <th>steel</th>\n",
              "      <th>height</th>\n",
              "      <th>speed</th>\n",
              "      <th>length</th>\n",
              "      <th>numinversions</th>\n",
              "      <th>duration</th>\n",
              "      <th>gforce</th>\n",
              "      <th>opened</th>\n",
              "      <th>region</th>\n",
              "    </tr>\n",
              "  </thead>\n",
              "  <tbody>\n",
              "    <tr>\n",
              "      <th>count</th>\n",
              "      <td>408.000000</td>\n",
              "      <td>326.000000</td>\n",
              "      <td>270.000000</td>\n",
              "      <td>318.000000</td>\n",
              "      <td>408.000000</td>\n",
              "      <td>192.000000</td>\n",
              "      <td>60.000000</td>\n",
              "      <td>380.000000</td>\n",
              "      <td>408.000000</td>\n",
              "    </tr>\n",
              "    <tr>\n",
              "      <th>mean</th>\n",
              "      <td>0.897059</td>\n",
              "      <td>23.124871</td>\n",
              "      <td>69.362667</td>\n",
              "      <td>597.040716</td>\n",
              "      <td>0.784314</td>\n",
              "      <td>112.462500</td>\n",
              "      <td>4.115000</td>\n",
              "      <td>1995.434211</td>\n",
              "      <td>1.786765</td>\n",
              "    </tr>\n",
              "    <tr>\n",
              "      <th>std</th>\n",
              "      <td>0.304255</td>\n",
              "      <td>18.523768</td>\n",
              "      <td>29.327743</td>\n",
              "      <td>432.256987</td>\n",
              "      <td>1.664058</td>\n",
              "      <td>50.518467</td>\n",
              "      <td>1.006896</td>\n",
              "      <td>12.753121</td>\n",
              "      <td>0.887323</td>\n",
              "    </tr>\n",
              "    <tr>\n",
              "      <th>min</th>\n",
              "      <td>0.000000</td>\n",
              "      <td>2.438400</td>\n",
              "      <td>9.720000</td>\n",
              "      <td>12.192000</td>\n",
              "      <td>0.000000</td>\n",
              "      <td>0.300000</td>\n",
              "      <td>2.100000</td>\n",
              "      <td>1924.000000</td>\n",
              "      <td>1.000000</td>\n",
              "    </tr>\n",
              "    <tr>\n",
              "      <th>25%</th>\n",
              "      <td>1.000000</td>\n",
              "      <td>8.650800</td>\n",
              "      <td>45.000000</td>\n",
              "      <td>291.000000</td>\n",
              "      <td>0.000000</td>\n",
              "      <td>75.000000</td>\n",
              "      <td>3.175000</td>\n",
              "      <td>1991.000000</td>\n",
              "      <td>1.000000</td>\n",
              "    </tr>\n",
              "    <tr>\n",
              "      <th>50%</th>\n",
              "      <td>1.000000</td>\n",
              "      <td>18.288000</td>\n",
              "      <td>68.850000</td>\n",
              "      <td>415.747500</td>\n",
              "      <td>0.000000</td>\n",
              "      <td>108.000000</td>\n",
              "      <td>4.500000</td>\n",
              "      <td>1999.000000</td>\n",
              "      <td>1.000000</td>\n",
              "    </tr>\n",
              "    <tr>\n",
              "      <th>75%</th>\n",
              "      <td>1.000000</td>\n",
              "      <td>33.167400</td>\n",
              "      <td>88.950000</td>\n",
              "      <td>833.121000</td>\n",
              "      <td>0.000000</td>\n",
              "      <td>140.750000</td>\n",
              "      <td>5.000000</td>\n",
              "      <td>2004.000000</td>\n",
              "      <td>3.000000</td>\n",
              "    </tr>\n",
              "    <tr>\n",
              "      <th>max</th>\n",
              "      <td>1.000000</td>\n",
              "      <td>128.016000</td>\n",
              "      <td>194.400000</td>\n",
              "      <td>2243.020000</td>\n",
              "      <td>10.000000</td>\n",
              "      <td>300.000000</td>\n",
              "      <td>6.200000</td>\n",
              "      <td>2014.000000</td>\n",
              "      <td>3.000000</td>\n",
              "    </tr>\n",
              "  </tbody>\n",
              "</table>\n",
              "</div>\n",
              "    <div class=\"colab-df-buttons\">\n",
              "\n",
              "  <div class=\"colab-df-container\">\n",
              "    <button class=\"colab-df-convert\" onclick=\"convertToInteractive('df-73b8a958-4bcd-4f59-b7b3-070928a1b5cd')\"\n",
              "            title=\"Convert this dataframe to an interactive table.\"\n",
              "            style=\"display:none;\">\n",
              "\n",
              "  <svg xmlns=\"http://www.w3.org/2000/svg\" height=\"24px\" viewBox=\"0 -960 960 960\">\n",
              "    <path d=\"M120-120v-720h720v720H120Zm60-500h600v-160H180v160Zm220 220h160v-160H400v160Zm0 220h160v-160H400v160ZM180-400h160v-160H180v160Zm440 0h160v-160H620v160ZM180-180h160v-160H180v160Zm440 0h160v-160H620v160Z\"/>\n",
              "  </svg>\n",
              "    </button>\n",
              "\n",
              "  <style>\n",
              "    .colab-df-container {\n",
              "      display:flex;\n",
              "      gap: 12px;\n",
              "    }\n",
              "\n",
              "    .colab-df-convert {\n",
              "      background-color: #E8F0FE;\n",
              "      border: none;\n",
              "      border-radius: 50%;\n",
              "      cursor: pointer;\n",
              "      display: none;\n",
              "      fill: #1967D2;\n",
              "      height: 32px;\n",
              "      padding: 0 0 0 0;\n",
              "      width: 32px;\n",
              "    }\n",
              "\n",
              "    .colab-df-convert:hover {\n",
              "      background-color: #E2EBFA;\n",
              "      box-shadow: 0px 1px 2px rgba(60, 64, 67, 0.3), 0px 1px 3px 1px rgba(60, 64, 67, 0.15);\n",
              "      fill: #174EA6;\n",
              "    }\n",
              "\n",
              "    .colab-df-buttons div {\n",
              "      margin-bottom: 4px;\n",
              "    }\n",
              "\n",
              "    [theme=dark] .colab-df-convert {\n",
              "      background-color: #3B4455;\n",
              "      fill: #D2E3FC;\n",
              "    }\n",
              "\n",
              "    [theme=dark] .colab-df-convert:hover {\n",
              "      background-color: #434B5C;\n",
              "      box-shadow: 0px 1px 3px 1px rgba(0, 0, 0, 0.15);\n",
              "      filter: drop-shadow(0px 1px 2px rgba(0, 0, 0, 0.3));\n",
              "      fill: #FFFFFF;\n",
              "    }\n",
              "  </style>\n",
              "\n",
              "    <script>\n",
              "      const buttonEl =\n",
              "        document.querySelector('#df-73b8a958-4bcd-4f59-b7b3-070928a1b5cd button.colab-df-convert');\n",
              "      buttonEl.style.display =\n",
              "        google.colab.kernel.accessAllowed ? 'block' : 'none';\n",
              "\n",
              "      async function convertToInteractive(key) {\n",
              "        const element = document.querySelector('#df-73b8a958-4bcd-4f59-b7b3-070928a1b5cd');\n",
              "        const dataTable =\n",
              "          await google.colab.kernel.invokeFunction('convertToInteractive',\n",
              "                                                    [key], {});\n",
              "        if (!dataTable) return;\n",
              "\n",
              "        const docLinkHtml = 'Like what you see? Visit the ' +\n",
              "          '<a target=\"_blank\" href=https://colab.research.google.com/notebooks/data_table.ipynb>data table notebook</a>'\n",
              "          + ' to learn more about interactive tables.';\n",
              "        element.innerHTML = '';\n",
              "        dataTable['output_type'] = 'display_data';\n",
              "        await google.colab.output.renderOutput(dataTable, element);\n",
              "        const docLink = document.createElement('div');\n",
              "        docLink.innerHTML = docLinkHtml;\n",
              "        element.appendChild(docLink);\n",
              "      }\n",
              "    </script>\n",
              "  </div>\n",
              "\n",
              "\n",
              "<div id=\"df-d475d9e0-ff8b-4273-936a-52d9b2e8baa5\">\n",
              "  <button class=\"colab-df-quickchart\" onclick=\"quickchart('df-d475d9e0-ff8b-4273-936a-52d9b2e8baa5')\"\n",
              "            title=\"Suggest charts\"\n",
              "            style=\"display:none;\">\n",
              "\n",
              "<svg xmlns=\"http://www.w3.org/2000/svg\" height=\"24px\"viewBox=\"0 0 24 24\"\n",
              "     width=\"24px\">\n",
              "    <g>\n",
              "        <path d=\"M19 3H5c-1.1 0-2 .9-2 2v14c0 1.1.9 2 2 2h14c1.1 0 2-.9 2-2V5c0-1.1-.9-2-2-2zM9 17H7v-7h2v7zm4 0h-2V7h2v10zm4 0h-2v-4h2v4z\"/>\n",
              "    </g>\n",
              "</svg>\n",
              "  </button>\n",
              "\n",
              "<style>\n",
              "  .colab-df-quickchart {\n",
              "      --bg-color: #E8F0FE;\n",
              "      --fill-color: #1967D2;\n",
              "      --hover-bg-color: #E2EBFA;\n",
              "      --hover-fill-color: #174EA6;\n",
              "      --disabled-fill-color: #AAA;\n",
              "      --disabled-bg-color: #DDD;\n",
              "  }\n",
              "\n",
              "  [theme=dark] .colab-df-quickchart {\n",
              "      --bg-color: #3B4455;\n",
              "      --fill-color: #D2E3FC;\n",
              "      --hover-bg-color: #434B5C;\n",
              "      --hover-fill-color: #FFFFFF;\n",
              "      --disabled-bg-color: #3B4455;\n",
              "      --disabled-fill-color: #666;\n",
              "  }\n",
              "\n",
              "  .colab-df-quickchart {\n",
              "    background-color: var(--bg-color);\n",
              "    border: none;\n",
              "    border-radius: 50%;\n",
              "    cursor: pointer;\n",
              "    display: none;\n",
              "    fill: var(--fill-color);\n",
              "    height: 32px;\n",
              "    padding: 0;\n",
              "    width: 32px;\n",
              "  }\n",
              "\n",
              "  .colab-df-quickchart:hover {\n",
              "    background-color: var(--hover-bg-color);\n",
              "    box-shadow: 0 1px 2px rgba(60, 64, 67, 0.3), 0 1px 3px 1px rgba(60, 64, 67, 0.15);\n",
              "    fill: var(--button-hover-fill-color);\n",
              "  }\n",
              "\n",
              "  .colab-df-quickchart-complete:disabled,\n",
              "  .colab-df-quickchart-complete:disabled:hover {\n",
              "    background-color: var(--disabled-bg-color);\n",
              "    fill: var(--disabled-fill-color);\n",
              "    box-shadow: none;\n",
              "  }\n",
              "\n",
              "  .colab-df-spinner {\n",
              "    border: 2px solid var(--fill-color);\n",
              "    border-color: transparent;\n",
              "    border-bottom-color: var(--fill-color);\n",
              "    animation:\n",
              "      spin 1s steps(1) infinite;\n",
              "  }\n",
              "\n",
              "  @keyframes spin {\n",
              "    0% {\n",
              "      border-color: transparent;\n",
              "      border-bottom-color: var(--fill-color);\n",
              "      border-left-color: var(--fill-color);\n",
              "    }\n",
              "    20% {\n",
              "      border-color: transparent;\n",
              "      border-left-color: var(--fill-color);\n",
              "      border-top-color: var(--fill-color);\n",
              "    }\n",
              "    30% {\n",
              "      border-color: transparent;\n",
              "      border-left-color: var(--fill-color);\n",
              "      border-top-color: var(--fill-color);\n",
              "      border-right-color: var(--fill-color);\n",
              "    }\n",
              "    40% {\n",
              "      border-color: transparent;\n",
              "      border-right-color: var(--fill-color);\n",
              "      border-top-color: var(--fill-color);\n",
              "    }\n",
              "    60% {\n",
              "      border-color: transparent;\n",
              "      border-right-color: var(--fill-color);\n",
              "    }\n",
              "    80% {\n",
              "      border-color: transparent;\n",
              "      border-right-color: var(--fill-color);\n",
              "      border-bottom-color: var(--fill-color);\n",
              "    }\n",
              "    90% {\n",
              "      border-color: transparent;\n",
              "      border-bottom-color: var(--fill-color);\n",
              "    }\n",
              "  }\n",
              "</style>\n",
              "\n",
              "  <script>\n",
              "    async function quickchart(key) {\n",
              "      const quickchartButtonEl =\n",
              "        document.querySelector('#' + key + ' button');\n",
              "      quickchartButtonEl.disabled = true;  // To prevent multiple clicks.\n",
              "      quickchartButtonEl.classList.add('colab-df-spinner');\n",
              "      try {\n",
              "        const charts = await google.colab.kernel.invokeFunction(\n",
              "            'suggestCharts', [key], {});\n",
              "      } catch (error) {\n",
              "        console.error('Error during call to suggestCharts:', error);\n",
              "      }\n",
              "      quickchartButtonEl.classList.remove('colab-df-spinner');\n",
              "      quickchartButtonEl.classList.add('colab-df-quickchart-complete');\n",
              "    }\n",
              "    (() => {\n",
              "      let quickchartButtonEl =\n",
              "        document.querySelector('#df-d475d9e0-ff8b-4273-936a-52d9b2e8baa5 button');\n",
              "      quickchartButtonEl.style.display =\n",
              "        google.colab.kernel.accessAllowed ? 'block' : 'none';\n",
              "    })();\n",
              "  </script>\n",
              "</div>\n",
              "\n",
              "  <div id=\"id_5e179a11-0fb0-4b8d-9610-c9a13deb2c21\">\n",
              "    <style>\n",
              "      .colab-df-generate {\n",
              "        background-color: #E8F0FE;\n",
              "        border: none;\n",
              "        border-radius: 50%;\n",
              "        cursor: pointer;\n",
              "        display: none;\n",
              "        fill: #1967D2;\n",
              "        height: 32px;\n",
              "        padding: 0 0 0 0;\n",
              "        width: 32px;\n",
              "      }\n",
              "\n",
              "      .colab-df-generate:hover {\n",
              "        background-color: #E2EBFA;\n",
              "        box-shadow: 0px 1px 2px rgba(60, 64, 67, 0.3), 0px 1px 3px 1px rgba(60, 64, 67, 0.15);\n",
              "        fill: #174EA6;\n",
              "      }\n",
              "\n",
              "      [theme=dark] .colab-df-generate {\n",
              "        background-color: #3B4455;\n",
              "        fill: #D2E3FC;\n",
              "      }\n",
              "\n",
              "      [theme=dark] .colab-df-generate:hover {\n",
              "        background-color: #434B5C;\n",
              "        box-shadow: 0px 1px 3px 1px rgba(0, 0, 0, 0.15);\n",
              "        filter: drop-shadow(0px 1px 2px rgba(0, 0, 0, 0.3));\n",
              "        fill: #FFFFFF;\n",
              "      }\n",
              "    </style>\n",
              "    <button class=\"colab-df-generate\" onclick=\"generateWithVariable('stats')\"\n",
              "            title=\"Generate code using this dataframe.\"\n",
              "            style=\"display:none;\">\n",
              "\n",
              "  <svg xmlns=\"http://www.w3.org/2000/svg\" height=\"24px\"viewBox=\"0 0 24 24\"\n",
              "       width=\"24px\">\n",
              "    <path d=\"M7,19H8.4L18.45,9,17,7.55,7,17.6ZM5,21V16.75L18.45,3.32a2,2,0,0,1,2.83,0l1.4,1.43a1.91,1.91,0,0,1,.58,1.4,1.91,1.91,0,0,1-.58,1.4L9.25,21ZM18.45,9,17,7.55Zm-12,3A5.31,5.31,0,0,0,4.9,8.1,5.31,5.31,0,0,0,1,6.5,5.31,5.31,0,0,0,4.9,4.9,5.31,5.31,0,0,0,6.5,1,5.31,5.31,0,0,0,8.1,4.9,5.31,5.31,0,0,0,12,6.5,5.46,5.46,0,0,0,6.5,12Z\"/>\n",
              "  </svg>\n",
              "    </button>\n",
              "    <script>\n",
              "      (() => {\n",
              "      const buttonEl =\n",
              "        document.querySelector('#id_5e179a11-0fb0-4b8d-9610-c9a13deb2c21 button.colab-df-generate');\n",
              "      buttonEl.style.display =\n",
              "        google.colab.kernel.accessAllowed ? 'block' : 'none';\n",
              "\n",
              "      buttonEl.onclick = () => {\n",
              "        google.colab.notebook.generateWithVariable('stats');\n",
              "      }\n",
              "      })();\n",
              "    </script>\n",
              "  </div>\n",
              "\n",
              "    </div>\n",
              "  </div>\n"
            ],
            "application/vnd.google.colaboratory.intrinsic+json": {
              "type": "dataframe",
              "variable_name": "stats",
              "summary": "{\n  \"name\": \"stats\",\n  \"rows\": 8,\n  \"fields\": [\n    {\n      \"column\": \"steel\",\n      \"properties\": {\n        \"dtype\": \"number\",\n        \"std\": 143.9875895220848,\n        \"min\": 0.0,\n        \"max\": 408.0,\n        \"num_unique_values\": 5,\n        \"samples\": [\n          0.8970588235294118,\n          1.0,\n          0.30425512453609543\n        ],\n        \"semantic_type\": \"\",\n        \"description\": \"\"\n      }\n    },\n    {\n      \"column\": \"height\",\n      \"properties\": {\n        \"dtype\": \"number\",\n        \"std\": 110.9102604525463,\n        \"min\": 2.4384,\n        \"max\": 326.0,\n        \"num_unique_values\": 8,\n        \"samples\": [\n          23.12487116564417,\n          18.288,\n          326.0\n        ],\n        \"semantic_type\": \"\",\n        \"description\": \"\"\n      }\n    },\n    {\n      \"column\": \"speed\",\n      \"properties\": {\n        \"dtype\": \"number\",\n        \"std\": 89.39328908323381,\n        \"min\": 9.72,\n        \"max\": 270.0,\n        \"num_unique_values\": 8,\n        \"samples\": [\n          69.36266666666666,\n          68.85,\n          270.0\n        ],\n        \"semantic_type\": \"\",\n        \"description\": \"\"\n      }\n    },\n    {\n      \"column\": \"length\",\n      \"properties\": {\n        \"dtype\": \"number\",\n        \"std\": 688.8734044179491,\n        \"min\": 12.192,\n        \"max\": 2243.02,\n        \"num_unique_values\": 8,\n        \"samples\": [\n          597.0407163522011,\n          415.7475,\n          318.0\n        ],\n        \"semantic_type\": \"\",\n        \"description\": \"\"\n      }\n    },\n    {\n      \"column\": \"numinversions\",\n      \"properties\": {\n        \"dtype\": \"number\",\n        \"std\": 143.66144728300785,\n        \"min\": 0.0,\n        \"max\": 408.0,\n        \"num_unique_values\": 5,\n        \"samples\": [\n          0.7843137254901961,\n          10.0,\n          1.6640582758907618\n        ],\n        \"semantic_type\": \"\",\n        \"description\": \"\"\n      }\n    },\n    {\n      \"column\": \"duration\",\n      \"properties\": {\n        \"dtype\": \"number\",\n        \"std\": 92.0798392404522,\n        \"min\": 0.3,\n        \"max\": 300.0,\n        \"num_unique_values\": 8,\n        \"samples\": [\n          112.46249999999999,\n          108.0,\n          192.0\n        ],\n        \"semantic_type\": \"\",\n        \"description\": \"\"\n      }\n    },\n    {\n      \"column\": \"gforce\",\n      \"properties\": {\n        \"dtype\": \"number\",\n        \"std\": 19.962619558600583,\n        \"min\": 1.006895716075328,\n        \"max\": 60.0,\n        \"num_unique_values\": 8,\n        \"samples\": [\n          4.115,\n          4.5,\n          60.0\n        ],\n        \"semantic_type\": \"\",\n        \"description\": \"\"\n      }\n    },\n    {\n      \"column\": \"opened\",\n      \"properties\": {\n        \"dtype\": \"number\",\n        \"std\": 835.550575093846,\n        \"min\": 12.753121120716994,\n        \"max\": 2014.0,\n        \"num_unique_values\": 8,\n        \"samples\": [\n          1995.4342105263158,\n          1999.0,\n          380.0\n        ],\n        \"semantic_type\": \"\",\n        \"description\": \"\"\n      }\n    },\n    {\n      \"column\": \"region\",\n      \"properties\": {\n        \"dtype\": \"number\",\n        \"std\": 143.66289278427968,\n        \"min\": 0.887323404462843,\n        \"max\": 408.0,\n        \"num_unique_values\": 5,\n        \"samples\": [\n          1.786764705882353,\n          3.0,\n          0.887323404462843\n        ],\n        \"semantic_type\": \"\",\n        \"description\": \"\"\n      }\n    }\n  ]\n}"
            }
          },
          "metadata": {},
          "execution_count": 14
        }
      ]
    },
    {
      "cell_type": "markdown",
      "source": [
        "## Is standardization necessary for these variables?\n",
        "Depending on the intended model used, standardization may be useful for this data, although it may not be necessary. However, a few times it would be necessary include, but are not limited to, when the model intended to be used assumes a normal distribution, is sensitive to variation, or when the variables are all on different scales. Since this data is not normalized, some of the variables have large coefficients of variation, and they are all on different scales, standardization would be necessary if the intended model met any of the above criteria."
      ],
      "metadata": {
        "id": "rf-VzQSEOD4m"
      }
    },
    {
      "cell_type": "code",
      "source": [
        "coast_std = stats.loc['std'] # get standard deviation from descriptive statistics\n",
        "coast_mean = stats.loc['mean'] # get mean from descriptive statistics\n",
        "coast_cv = coast_std / coast_mean # calculate coefficent of variation for each variable\n",
        "coast_cv"
      ],
      "metadata": {
        "colab": {
          "base_uri": "https://localhost:8080/",
          "height": 366
        },
        "id": "q_VYcmorPKh5",
        "outputId": "8315e42b-8e88-4d3a-d63e-a2d60a589780"
      },
      "execution_count": 15,
      "outputs": [
        {
          "output_type": "execute_result",
          "data": {
            "text/plain": [
              "steel            0.339170\n",
              "height           0.801032\n",
              "speed            0.422817\n",
              "length           0.723999\n",
              "numinversions    2.121674\n",
              "duration         0.449203\n",
              "gforce           0.244689\n",
              "opened           0.006391\n",
              "region           0.496609\n",
              "dtype: float64"
            ],
            "text/html": [
              "<div>\n",
              "<style scoped>\n",
              "    .dataframe tbody tr th:only-of-type {\n",
              "        vertical-align: middle;\n",
              "    }\n",
              "\n",
              "    .dataframe tbody tr th {\n",
              "        vertical-align: top;\n",
              "    }\n",
              "\n",
              "    .dataframe thead th {\n",
              "        text-align: right;\n",
              "    }\n",
              "</style>\n",
              "<table border=\"1\" class=\"dataframe\">\n",
              "  <thead>\n",
              "    <tr style=\"text-align: right;\">\n",
              "      <th></th>\n",
              "      <th>0</th>\n",
              "    </tr>\n",
              "  </thead>\n",
              "  <tbody>\n",
              "    <tr>\n",
              "      <th>steel</th>\n",
              "      <td>0.339170</td>\n",
              "    </tr>\n",
              "    <tr>\n",
              "      <th>height</th>\n",
              "      <td>0.801032</td>\n",
              "    </tr>\n",
              "    <tr>\n",
              "      <th>speed</th>\n",
              "      <td>0.422817</td>\n",
              "    </tr>\n",
              "    <tr>\n",
              "      <th>length</th>\n",
              "      <td>0.723999</td>\n",
              "    </tr>\n",
              "    <tr>\n",
              "      <th>numinversions</th>\n",
              "      <td>2.121674</td>\n",
              "    </tr>\n",
              "    <tr>\n",
              "      <th>duration</th>\n",
              "      <td>0.449203</td>\n",
              "    </tr>\n",
              "    <tr>\n",
              "      <th>gforce</th>\n",
              "      <td>0.244689</td>\n",
              "    </tr>\n",
              "    <tr>\n",
              "      <th>opened</th>\n",
              "      <td>0.006391</td>\n",
              "    </tr>\n",
              "    <tr>\n",
              "      <th>region</th>\n",
              "      <td>0.496609</td>\n",
              "    </tr>\n",
              "  </tbody>\n",
              "</table>\n",
              "</div><br><label><b>dtype:</b> float64</label>"
            ]
          },
          "metadata": {},
          "execution_count": 15
        }
      ]
    },
    {
      "cell_type": "markdown",
      "source": [
        "## Are there any missing values?\n",
        "Yes, there are missing values in the 'height', 'speed', 'length', 'duration', 'gforce', and 'opened' columns with the most missing values coming from the 'gforce' column."
      ],
      "metadata": {
        "id": "JOrsfQ-WteFF"
      }
    },
    {
      "cell_type": "code",
      "source": [
        "coasters.isnull().sum() # get number of missing values for each column"
      ],
      "metadata": {
        "colab": {
          "base_uri": "https://localhost:8080/",
          "height": 523
        },
        "id": "zAjliAH4uCtk",
        "outputId": "c0f97096-b161-4427-b150-604009d27c82"
      },
      "execution_count": 16,
      "outputs": [
        {
          "output_type": "execute_result",
          "data": {
            "text/plain": [
              "state              0\n",
              "country            0\n",
              "steel              0\n",
              "construction       0\n",
              "height            82\n",
              "speed            138\n",
              "length            90\n",
              "inversions         0\n",
              "numinversions      0\n",
              "duration         216\n",
              "gforce           348\n",
              "opened            28\n",
              "region             0\n",
              "continent          0\n",
              "dtype: int64"
            ],
            "text/html": [
              "<div>\n",
              "<style scoped>\n",
              "    .dataframe tbody tr th:only-of-type {\n",
              "        vertical-align: middle;\n",
              "    }\n",
              "\n",
              "    .dataframe tbody tr th {\n",
              "        vertical-align: top;\n",
              "    }\n",
              "\n",
              "    .dataframe thead th {\n",
              "        text-align: right;\n",
              "    }\n",
              "</style>\n",
              "<table border=\"1\" class=\"dataframe\">\n",
              "  <thead>\n",
              "    <tr style=\"text-align: right;\">\n",
              "      <th></th>\n",
              "      <th>0</th>\n",
              "    </tr>\n",
              "  </thead>\n",
              "  <tbody>\n",
              "    <tr>\n",
              "      <th>state</th>\n",
              "      <td>0</td>\n",
              "    </tr>\n",
              "    <tr>\n",
              "      <th>country</th>\n",
              "      <td>0</td>\n",
              "    </tr>\n",
              "    <tr>\n",
              "      <th>steel</th>\n",
              "      <td>0</td>\n",
              "    </tr>\n",
              "    <tr>\n",
              "      <th>construction</th>\n",
              "      <td>0</td>\n",
              "    </tr>\n",
              "    <tr>\n",
              "      <th>height</th>\n",
              "      <td>82</td>\n",
              "    </tr>\n",
              "    <tr>\n",
              "      <th>speed</th>\n",
              "      <td>138</td>\n",
              "    </tr>\n",
              "    <tr>\n",
              "      <th>length</th>\n",
              "      <td>90</td>\n",
              "    </tr>\n",
              "    <tr>\n",
              "      <th>inversions</th>\n",
              "      <td>0</td>\n",
              "    </tr>\n",
              "    <tr>\n",
              "      <th>numinversions</th>\n",
              "      <td>0</td>\n",
              "    </tr>\n",
              "    <tr>\n",
              "      <th>duration</th>\n",
              "      <td>216</td>\n",
              "    </tr>\n",
              "    <tr>\n",
              "      <th>gforce</th>\n",
              "      <td>348</td>\n",
              "    </tr>\n",
              "    <tr>\n",
              "      <th>opened</th>\n",
              "      <td>28</td>\n",
              "    </tr>\n",
              "    <tr>\n",
              "      <th>region</th>\n",
              "      <td>0</td>\n",
              "    </tr>\n",
              "    <tr>\n",
              "      <th>continent</th>\n",
              "      <td>0</td>\n",
              "    </tr>\n",
              "  </tbody>\n",
              "</table>\n",
              "</div><br><label><b>dtype:</b> int64</label>"
            ]
          },
          "metadata": {},
          "execution_count": 16
        }
      ]
    },
    {
      "cell_type": "markdown",
      "source": [
        "## What continents are represented?\n",
        "North America, Latin America, and Europe"
      ],
      "metadata": {
        "id": "ILkW-t5gwqM6"
      }
    },
    {
      "cell_type": "code",
      "source": [
        "unique_continents = coasters['continent'].unique() # get unique values of 'continent' variable\n",
        "unique_continents"
      ],
      "metadata": {
        "colab": {
          "base_uri": "https://localhost:8080/"
        },
        "id": "6kbGZcA9wvaD",
        "outputId": "aed57ccb-63e5-4c06-ed40-facc32107670"
      },
      "execution_count": 17,
      "outputs": [
        {
          "output_type": "execute_result",
          "data": {
            "text/plain": [
              "array(['North America', 'Latin America', 'Europe'], dtype=object)"
            ]
          },
          "metadata": {},
          "execution_count": 17
        }
      ]
    },
    {
      "cell_type": "markdown",
      "source": [
        "## What is the tallest coaster included? fastest? longest?\n",
        "Tallest: Coaster No. 193 at a height of 128.016\n",
        "\n",
        "Fastest: Coaster No. 193 at a speed of 194.4\n",
        "\n",
        "Longest: Coaster No. 164 at a length of 2243.02"
      ],
      "metadata": {
        "id": "oi8g3w04uX8f"
      }
    },
    {
      "cell_type": "code",
      "source": [
        "tallest_index = coasters['height'].idxmax() # get index of tallest coaster\n",
        "tallest_height = coasters.loc[tallest_index].height # get height of tallest coaster\n",
        "[tallest_index, tallest_height]"
      ],
      "metadata": {
        "colab": {
          "base_uri": "https://localhost:8080/"
        },
        "id": "h9OYRv4duGq0",
        "outputId": "3f3dd30c-b6d2-48da-a407-4ad228f021d4"
      },
      "execution_count": 19,
      "outputs": [
        {
          "output_type": "execute_result",
          "data": {
            "text/plain": [
              "[193, 128.016]"
            ]
          },
          "metadata": {},
          "execution_count": 19
        }
      ]
    },
    {
      "cell_type": "code",
      "source": [
        "fastest_index = coasters['speed'].idxmax() # get index of fastest coaster\n",
        "fastest_speed = coasters.loc[fastest_index].speed # get speed of fastest coaster\n",
        "[fastest_index, fastest_speed]"
      ],
      "metadata": {
        "colab": {
          "base_uri": "https://localhost:8080/"
        },
        "id": "YYeGqM4yvnz8",
        "outputId": "84f0bfe7-c404-43da-86e1-86a31d9e68bb"
      },
      "execution_count": 20,
      "outputs": [
        {
          "output_type": "execute_result",
          "data": {
            "text/plain": [
              "[193, 194.4]"
            ]
          },
          "metadata": {},
          "execution_count": 20
        }
      ]
    },
    {
      "cell_type": "code",
      "source": [
        "longest_index = coasters['length'].idxmax() # get index of longest coaster\n",
        "longest_length = coasters.loc[longest_index].length # get length of longest coaster\n",
        "[longest_index, longest_length]"
      ],
      "metadata": {
        "colab": {
          "base_uri": "https://localhost:8080/"
        },
        "id": "KWwnfqvAv3mu",
        "outputId": "0d274906-5929-4673-be58-3f93f0c87521"
      },
      "execution_count": 22,
      "outputs": [
        {
          "output_type": "execute_result",
          "data": {
            "text/plain": [
              "[164, 2243.02]"
            ]
          },
          "metadata": {},
          "execution_count": 22
        }
      ]
    },
    {
      "cell_type": "markdown",
      "source": [
        "## What is the average year coasters opened in North America? Latin America? Europe?\n",
        "North America: 1992.56\n",
        "\n",
        "Latin America: 2000.10\n",
        "\n",
        "Europe: 1997.77"
      ],
      "metadata": {
        "id": "HmN7POOBwbdp"
      }
    },
    {
      "cell_type": "code",
      "source": [
        "avg_opened = coasters.groupby('continent')['opened'].mean() # get mean of 'opened' for each continent\n",
        "avg_opened"
      ],
      "metadata": {
        "colab": {
          "base_uri": "https://localhost:8080/",
          "height": 210
        },
        "id": "1jlpuIE6yJgZ",
        "outputId": "265bba78-c2a1-47e9-b5ad-47b3e24c68a5"
      },
      "execution_count": null,
      "outputs": [
        {
          "output_type": "execute_result",
          "data": {
            "text/plain": [
              "continent\n",
              "Europe           1997.774194\n",
              "Latin America    2000.101695\n",
              "North America    1992.563452\n",
              "Name: opened, dtype: float64"
            ],
            "text/html": [
              "<div>\n",
              "<style scoped>\n",
              "    .dataframe tbody tr th:only-of-type {\n",
              "        vertical-align: middle;\n",
              "    }\n",
              "\n",
              "    .dataframe tbody tr th {\n",
              "        vertical-align: top;\n",
              "    }\n",
              "\n",
              "    .dataframe thead th {\n",
              "        text-align: right;\n",
              "    }\n",
              "</style>\n",
              "<table border=\"1\" class=\"dataframe\">\n",
              "  <thead>\n",
              "    <tr style=\"text-align: right;\">\n",
              "      <th></th>\n",
              "      <th>opened</th>\n",
              "    </tr>\n",
              "    <tr>\n",
              "      <th>continent</th>\n",
              "      <th></th>\n",
              "    </tr>\n",
              "  </thead>\n",
              "  <tbody>\n",
              "    <tr>\n",
              "      <th>Europe</th>\n",
              "      <td>1997.774194</td>\n",
              "    </tr>\n",
              "    <tr>\n",
              "      <th>Latin America</th>\n",
              "      <td>2000.101695</td>\n",
              "    </tr>\n",
              "    <tr>\n",
              "      <th>North America</th>\n",
              "      <td>1992.563452</td>\n",
              "    </tr>\n",
              "  </tbody>\n",
              "</table>\n",
              "</div><br><label><b>dtype:</b> float64</label>"
            ]
          },
          "metadata": {},
          "execution_count": 15
        }
      ]
    },
    {
      "cell_type": "markdown",
      "source": [
        "## How does the average height, speed, and length change based on if the coasters is wood or steel?\n",
        "\n",
        "Wood coasters are on average taller, faster, and longer than steel ones."
      ],
      "metadata": {
        "id": "Lp22MAXgw-u7"
      }
    },
    {
      "cell_type": "code",
      "source": [
        "height_construct = coasters.groupby('construction')['height'].mean() # get mean of 'height' for each construction\n",
        "height_construct"
      ],
      "metadata": {
        "colab": {
          "base_uri": "https://localhost:8080/",
          "height": 178
        },
        "id": "MRBHe627yluy",
        "outputId": "7352ac55-2e52-40d0-9c95-1a146a17f9fa"
      },
      "execution_count": null,
      "outputs": [
        {
          "output_type": "execute_result",
          "data": {
            "text/plain": [
              "construction\n",
              "Steel    22.082011\n",
              "Wood     31.028653\n",
              "Name: height, dtype: float64"
            ],
            "text/html": [
              "<div>\n",
              "<style scoped>\n",
              "    .dataframe tbody tr th:only-of-type {\n",
              "        vertical-align: middle;\n",
              "    }\n",
              "\n",
              "    .dataframe tbody tr th {\n",
              "        vertical-align: top;\n",
              "    }\n",
              "\n",
              "    .dataframe thead th {\n",
              "        text-align: right;\n",
              "    }\n",
              "</style>\n",
              "<table border=\"1\" class=\"dataframe\">\n",
              "  <thead>\n",
              "    <tr style=\"text-align: right;\">\n",
              "      <th></th>\n",
              "      <th>height</th>\n",
              "    </tr>\n",
              "    <tr>\n",
              "      <th>construction</th>\n",
              "      <th></th>\n",
              "    </tr>\n",
              "  </thead>\n",
              "  <tbody>\n",
              "    <tr>\n",
              "      <th>Steel</th>\n",
              "      <td>22.082011</td>\n",
              "    </tr>\n",
              "    <tr>\n",
              "      <th>Wood</th>\n",
              "      <td>31.028653</td>\n",
              "    </tr>\n",
              "  </tbody>\n",
              "</table>\n",
              "</div><br><label><b>dtype:</b> float64</label>"
            ]
          },
          "metadata": {},
          "execution_count": 16
        }
      ]
    },
    {
      "cell_type": "code",
      "source": [
        "speed_construct = coasters.groupby('construction')['speed'].mean() # get mean of 'speed' for each construction\n",
        "speed_construct"
      ],
      "metadata": {
        "colab": {
          "base_uri": "https://localhost:8080/",
          "height": 178
        },
        "id": "33yJZHGVzNo5",
        "outputId": "3cc2d839-d886-461f-92bf-be24607d095f"
      },
      "execution_count": null,
      "outputs": [
        {
          "output_type": "execute_result",
          "data": {
            "text/plain": [
              "construction\n",
              "Steel    66.468475\n",
              "Wood     89.451765\n",
              "Name: speed, dtype: float64"
            ],
            "text/html": [
              "<div>\n",
              "<style scoped>\n",
              "    .dataframe tbody tr th:only-of-type {\n",
              "        vertical-align: middle;\n",
              "    }\n",
              "\n",
              "    .dataframe tbody tr th {\n",
              "        vertical-align: top;\n",
              "    }\n",
              "\n",
              "    .dataframe thead th {\n",
              "        text-align: right;\n",
              "    }\n",
              "</style>\n",
              "<table border=\"1\" class=\"dataframe\">\n",
              "  <thead>\n",
              "    <tr style=\"text-align: right;\">\n",
              "      <th></th>\n",
              "      <th>speed</th>\n",
              "    </tr>\n",
              "    <tr>\n",
              "      <th>construction</th>\n",
              "      <th></th>\n",
              "    </tr>\n",
              "  </thead>\n",
              "  <tbody>\n",
              "    <tr>\n",
              "      <th>Steel</th>\n",
              "      <td>66.468475</td>\n",
              "    </tr>\n",
              "    <tr>\n",
              "      <th>Wood</th>\n",
              "      <td>89.451765</td>\n",
              "    </tr>\n",
              "  </tbody>\n",
              "</table>\n",
              "</div><br><label><b>dtype:</b> float64</label>"
            ]
          },
          "metadata": {},
          "execution_count": 17
        }
      ]
    },
    {
      "cell_type": "code",
      "source": [
        "length_construct = coasters.groupby('construction')['length'].mean() # get mean of 'length' for each construction\n",
        "length_construct"
      ],
      "metadata": {
        "colab": {
          "base_uri": "https://localhost:8080/",
          "height": 178
        },
        "id": "M2WjBU_szbf0",
        "outputId": "8c6faab0-eb0f-4851-c72e-f0ee7b87cd23"
      },
      "execution_count": null,
      "outputs": [
        {
          "output_type": "execute_result",
          "data": {
            "text/plain": [
              "construction\n",
              "Steel     528.607143\n",
              "Wood     1072.654050\n",
              "Name: length, dtype: float64"
            ],
            "text/html": [
              "<div>\n",
              "<style scoped>\n",
              "    .dataframe tbody tr th:only-of-type {\n",
              "        vertical-align: middle;\n",
              "    }\n",
              "\n",
              "    .dataframe tbody tr th {\n",
              "        vertical-align: top;\n",
              "    }\n",
              "\n",
              "    .dataframe thead th {\n",
              "        text-align: right;\n",
              "    }\n",
              "</style>\n",
              "<table border=\"1\" class=\"dataframe\">\n",
              "  <thead>\n",
              "    <tr style=\"text-align: right;\">\n",
              "      <th></th>\n",
              "      <th>length</th>\n",
              "    </tr>\n",
              "    <tr>\n",
              "      <th>construction</th>\n",
              "      <th></th>\n",
              "    </tr>\n",
              "  </thead>\n",
              "  <tbody>\n",
              "    <tr>\n",
              "      <th>Steel</th>\n",
              "      <td>528.607143</td>\n",
              "    </tr>\n",
              "    <tr>\n",
              "      <th>Wood</th>\n",
              "      <td>1072.654050</td>\n",
              "    </tr>\n",
              "  </tbody>\n",
              "</table>\n",
              "</div><br><label><b>dtype:</b> float64</label>"
            ]
          },
          "metadata": {},
          "execution_count": 18
        }
      ]
    },
    {
      "cell_type": "markdown",
      "source": [
        "## Which continent has the tallest, fastest, and/or longest average coaster?\n",
        "\n",
        "North America has the tallest, fastest, and longest average coaster."
      ],
      "metadata": {
        "id": "h0inIo5GxoGX"
      }
    },
    {
      "cell_type": "code",
      "source": [
        "tallest_continent = coasters.groupby('continent')['height'].mean() # get mean of 'height' for each continent\n",
        "tallest_continent"
      ],
      "metadata": {
        "colab": {
          "base_uri": "https://localhost:8080/",
          "height": 210
        },
        "id": "1dt0tmVzz2ZZ",
        "outputId": "25452166-6648-44bc-bfa8-48e1c11f506b"
      },
      "execution_count": null,
      "outputs": [
        {
          "output_type": "execute_result",
          "data": {
            "text/plain": [
              "continent\n",
              "Europe           16.028448\n",
              "Latin America    21.327692\n",
              "North America    29.607641\n",
              "Name: height, dtype: float64"
            ],
            "text/html": [
              "<div>\n",
              "<style scoped>\n",
              "    .dataframe tbody tr th:only-of-type {\n",
              "        vertical-align: middle;\n",
              "    }\n",
              "\n",
              "    .dataframe tbody tr th {\n",
              "        vertical-align: top;\n",
              "    }\n",
              "\n",
              "    .dataframe thead th {\n",
              "        text-align: right;\n",
              "    }\n",
              "</style>\n",
              "<table border=\"1\" class=\"dataframe\">\n",
              "  <thead>\n",
              "    <tr style=\"text-align: right;\">\n",
              "      <th></th>\n",
              "      <th>height</th>\n",
              "    </tr>\n",
              "    <tr>\n",
              "      <th>continent</th>\n",
              "      <th></th>\n",
              "    </tr>\n",
              "  </thead>\n",
              "  <tbody>\n",
              "    <tr>\n",
              "      <th>Europe</th>\n",
              "      <td>16.028448</td>\n",
              "    </tr>\n",
              "    <tr>\n",
              "      <th>Latin America</th>\n",
              "      <td>21.327692</td>\n",
              "    </tr>\n",
              "    <tr>\n",
              "      <th>North America</th>\n",
              "      <td>29.607641</td>\n",
              "    </tr>\n",
              "  </tbody>\n",
              "</table>\n",
              "</div><br><label><b>dtype:</b> float64</label>"
            ]
          },
          "metadata": {},
          "execution_count": 19
        }
      ]
    },
    {
      "cell_type": "code",
      "source": [
        "fastest_continent = coasters.groupby('continent')['speed'].mean() # get mean of 'speed' for each continent\n",
        "fastest_continent"
      ],
      "metadata": {
        "colab": {
          "base_uri": "https://localhost:8080/",
          "height": 210
        },
        "id": "TroYXh5N0FzS",
        "outputId": "d724adbd-2aff-4d1a-b420-347b3e869069"
      },
      "execution_count": null,
      "outputs": [
        {
          "output_type": "execute_result",
          "data": {
            "text/plain": [
              "continent\n",
              "Europe           54.955789\n",
              "Latin America    67.171429\n",
              "North America    81.077143\n",
              "Name: speed, dtype: float64"
            ],
            "text/html": [
              "<div>\n",
              "<style scoped>\n",
              "    .dataframe tbody tr th:only-of-type {\n",
              "        vertical-align: middle;\n",
              "    }\n",
              "\n",
              "    .dataframe tbody tr th {\n",
              "        vertical-align: top;\n",
              "    }\n",
              "\n",
              "    .dataframe thead th {\n",
              "        text-align: right;\n",
              "    }\n",
              "</style>\n",
              "<table border=\"1\" class=\"dataframe\">\n",
              "  <thead>\n",
              "    <tr style=\"text-align: right;\">\n",
              "      <th></th>\n",
              "      <th>speed</th>\n",
              "    </tr>\n",
              "    <tr>\n",
              "      <th>continent</th>\n",
              "      <th></th>\n",
              "    </tr>\n",
              "  </thead>\n",
              "  <tbody>\n",
              "    <tr>\n",
              "      <th>Europe</th>\n",
              "      <td>54.955789</td>\n",
              "    </tr>\n",
              "    <tr>\n",
              "      <th>Latin America</th>\n",
              "      <td>67.171429</td>\n",
              "    </tr>\n",
              "    <tr>\n",
              "      <th>North America</th>\n",
              "      <td>81.077143</td>\n",
              "    </tr>\n",
              "  </tbody>\n",
              "</table>\n",
              "</div><br><label><b>dtype:</b> float64</label>"
            ]
          },
          "metadata": {},
          "execution_count": 20
        }
      ]
    },
    {
      "cell_type": "code",
      "source": [
        "longest_continent = coasters.groupby('continent')['length'].mean() # get mean of 'length' for each continent\n",
        "longest_continent"
      ],
      "metadata": {
        "colab": {
          "base_uri": "https://localhost:8080/",
          "height": 210
        },
        "id": "VDObckye0K06",
        "outputId": "68d308bd-6690-4c89-f576-41b9e94c2a53"
      },
      "execution_count": null,
      "outputs": [
        {
          "output_type": "execute_result",
          "data": {
            "text/plain": [
              "continent\n",
              "Europe           484.440000\n",
              "Latin America    493.067692\n",
              "North America    722.590188\n",
              "Name: length, dtype: float64"
            ],
            "text/html": [
              "<div>\n",
              "<style scoped>\n",
              "    .dataframe tbody tr th:only-of-type {\n",
              "        vertical-align: middle;\n",
              "    }\n",
              "\n",
              "    .dataframe tbody tr th {\n",
              "        vertical-align: top;\n",
              "    }\n",
              "\n",
              "    .dataframe thead th {\n",
              "        text-align: right;\n",
              "    }\n",
              "</style>\n",
              "<table border=\"1\" class=\"dataframe\">\n",
              "  <thead>\n",
              "    <tr style=\"text-align: right;\">\n",
              "      <th></th>\n",
              "      <th>length</th>\n",
              "    </tr>\n",
              "    <tr>\n",
              "      <th>continent</th>\n",
              "      <th></th>\n",
              "    </tr>\n",
              "  </thead>\n",
              "  <tbody>\n",
              "    <tr>\n",
              "      <th>Europe</th>\n",
              "      <td>484.440000</td>\n",
              "    </tr>\n",
              "    <tr>\n",
              "      <th>Latin America</th>\n",
              "      <td>493.067692</td>\n",
              "    </tr>\n",
              "    <tr>\n",
              "      <th>North America</th>\n",
              "      <td>722.590188</td>\n",
              "    </tr>\n",
              "  </tbody>\n",
              "</table>\n",
              "</div><br><label><b>dtype:</b> float64</label>"
            ]
          },
          "metadata": {},
          "execution_count": 21
        }
      ]
    }
  ]
}